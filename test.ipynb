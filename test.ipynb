{
 "cells": [
  {
   "cell_type": "code",
   "execution_count": 526,
   "metadata": {},
   "outputs": [],
   "source": [
    "import meitner\n",
    "import seaborn as sns\n",
    "import numpy as np\n",
    "import matplotlib.pyplot as plt"
   ]
  },
  {
   "cell_type": "code",
   "execution_count": 527,
   "metadata": {},
   "outputs": [
    {
     "name": "stdout",
     "output_type": "stream",
     "text": [
      "Excitation energy:\n",
      "655.0 eV\n"
     ]
    }
   ],
   "source": [
    "id = 'Au 4f 655'\n",
    "x = meitner.Pes.from_vamas('au3-0001.pxt.vms', region_id=id, normalize=True, n_peaks=2, dict_keys=['Au'])"
   ]
  },
  {
   "cell_type": "code",
   "execution_count": 528,
   "metadata": {},
   "outputs": [
    {
     "data": {
      "text/html": [
       "<table><tr><th> name </th><th> value </th><th> initial value </th><th> min </th><th> max </th><th> vary </th><th> expression </th></tr><tr><td> data_Au_p0_amplitude </td><td>  1.50000000 </td><td> 1.5 </td><td>  0.00000000 </td><td>         inf </td><td> True </td><td>  </td></tr><tr><td> data_Au_p0_center </td><td>  83.0000000 </td><td> 83 </td><td>  79.0000000 </td><td>  93.0000000 </td><td> True </td><td>  </td></tr><tr><td> data_Au_p0_sigma </td><td>  1.00000000 </td><td> 1 </td><td>  0.00000000 </td><td>         inf </td><td> True </td><td>  </td></tr><tr><td> data_Au_p0_gamma </td><td>  1.00000000 </td><td> 1 </td><td>  0.00000000 </td><td>         inf </td><td> True </td><td>  </td></tr><tr><td> data_Au_p0_gfwhm </td><td>  2.00000000 </td><td> None </td><td>        -inf </td><td>         inf </td><td> False </td><td> 2*data_Au_p0_sigma </td></tr><tr><td> data_Au_p0_lfwhm </td><td>  2.00000000 </td><td> None </td><td>        -inf </td><td>         inf </td><td> False </td><td> 2*data_Au_p0_gamma </td></tr><tr><td> data_Au_p0_glmix </td><td>  0.50000000 </td><td> None </td><td>  0.00000000 </td><td>  1.00000000 </td><td> False </td><td> data_Au_p0_lfwhm/(data_Au_p0_lfwhm+data_Au_p0_gfwhm) </td></tr><tr><td> data_Au_p0_fwhm </td><td>  3.00000000 </td><td> None </td><td>  0.00000000 </td><td>  3.00000000 </td><td> False </td><td> calc_voigt_fwhm(data_Au_p0_sigma,data_Au_p0_gamma) </td></tr><tr><td> data_Au_p1_amplitude </td><td>  1.50000000 </td><td> 1.5 </td><td>  0.00000000 </td><td>         inf </td><td> True </td><td>  </td></tr><tr><td> data_Au_p1_center </td><td>  87.0000000 </td><td> 87 </td><td>  79.0000000 </td><td>  93.0000000 </td><td> True </td><td>  </td></tr><tr><td> data_Au_p1_sigma </td><td>  1.00000000 </td><td> None </td><td>        -inf </td><td>         inf </td><td> False </td><td> data_Au_p0_sigma </td></tr><tr><td> data_Au_p1_gamma </td><td>  1.00000000 </td><td> 1 </td><td>  0.00000000 </td><td>         inf </td><td> True </td><td>  </td></tr><tr><td> data_Au_p1_gfwhm </td><td>  2.00000000 </td><td> None </td><td>        -inf </td><td>         inf </td><td> False </td><td> 2*data_Au_p1_sigma </td></tr><tr><td> data_Au_p1_lfwhm </td><td>  2.00000000 </td><td> None </td><td>        -inf </td><td>         inf </td><td> False </td><td> 2*data_Au_p1_gamma </td></tr><tr><td> data_Au_p1_glmix </td><td>  0.50000000 </td><td> None </td><td>  0.00000000 </td><td>  1.00000000 </td><td> False </td><td> data_Au_p1_lfwhm/(data_Au_p1_lfwhm+data_Au_p1_gfwhm) </td></tr><tr><td> data_Au_p1_fwhm </td><td>  3.00000000 </td><td> None </td><td>  0.00000000 </td><td>  3.00000000 </td><td> False </td><td> calc_voigt_fwhm(data_Au_p1_sigma,data_Au_p1_gamma) </td></tr><tr><td> data_Au_p1_p0_ratio </td><td>  1.00000000 </td><td> None </td><td>  0.00000000 </td><td>         inf </td><td> False </td><td> data_Au_p1_amplitude/data_Au_p0_amplitude </td></tr><tr><td> data_Au_p1_p0_spacing </td><td>  4.00000000 </td><td> None </td><td>  0.00000000 </td><td>         inf </td><td> False </td><td> data_Au_p1_center-data_Au_p0_center </td></tr></table>"
      ],
      "text/plain": [
       "Parameters([('data_Au_p0_amplitude', <Parameter 'data_Au_p0_amplitude', value=1.5, bounds=[0:inf]>), ('data_Au_p0_center', <Parameter 'data_Au_p0_center', value=83, bounds=[79.0:93.0]>), ('data_Au_p0_sigma', <Parameter 'data_Au_p0_sigma', value=1, bounds=[0:inf]>), ('data_Au_p0_gamma', <Parameter 'data_Au_p0_gamma', value=1, bounds=[0:inf]>), ('data_Au_p0_gfwhm', <Parameter 'data_Au_p0_gfwhm', value=2, bounds=[-inf:inf], expr='2*data_Au_p0_sigma'>), ('data_Au_p0_lfwhm', <Parameter 'data_Au_p0_lfwhm', value=2, bounds=[-inf:inf], expr='2*data_Au_p0_gamma'>), ('data_Au_p0_glmix', <Parameter 'data_Au_p0_glmix', value=0.5, bounds=[0:1], expr='data_Au_p0_lfwhm/(data_Au_p0_lfwhm+data_Au_p0_gfwhm)'>), ('data_Au_p0_fwhm', <Parameter 'data_Au_p0_fwhm', value=3, bounds=[0:3], expr='calc_voigt_fwhm(data_Au_p0_sigma,data_Au_p0_gamma)'>), ('data_Au_p1_amplitude', <Parameter 'data_Au_p1_amplitude', value=1.5, bounds=[0:inf]>), ('data_Au_p1_center', <Parameter 'data_Au_p1_center', value=87, bounds=[79.0:93.0]>), ('data_Au_p1_sigma', <Parameter 'data_Au_p1_sigma', value=1, bounds=[-inf:inf], expr='data_Au_p0_sigma'>), ('data_Au_p1_gamma', <Parameter 'data_Au_p1_gamma', value=1, bounds=[0:inf]>), ('data_Au_p1_gfwhm', <Parameter 'data_Au_p1_gfwhm', value=2, bounds=[-inf:inf], expr='2*data_Au_p1_sigma'>), ('data_Au_p1_lfwhm', <Parameter 'data_Au_p1_lfwhm', value=2, bounds=[-inf:inf], expr='2*data_Au_p1_gamma'>), ('data_Au_p1_glmix', <Parameter 'data_Au_p1_glmix', value=0.5, bounds=[0:1], expr='data_Au_p1_lfwhm/(data_Au_p1_lfwhm+data_Au_p1_gfwhm)'>), ('data_Au_p1_fwhm', <Parameter 'data_Au_p1_fwhm', value=3, bounds=[0:3], expr='calc_voigt_fwhm(data_Au_p1_sigma,data_Au_p1_gamma)'>), ('data_Au_p1_p0_ratio', <Parameter 'data_Au_p1_p0_ratio', value=1.0, bounds=[0:inf], expr='data_Au_p1_amplitude/data_Au_p0_amplitude'>), ('data_Au_p1_p0_spacing', <Parameter 'data_Au_p1_p0_spacing', value=4, bounds=[0:inf], expr='data_Au_p1_center-data_Au_p0_center'>)])"
      ]
     },
     "execution_count": 528,
     "metadata": {},
     "output_type": "execute_result"
    }
   ],
   "source": [
    "x.generate_params(be_guess=[83,87])"
   ]
  },
  {
   "cell_type": "code",
   "execution_count": 529,
   "metadata": {},
   "outputs": [],
   "source": [
    "x.fit_data()"
   ]
  },
  {
   "cell_type": "code",
   "execution_count": 531,
   "metadata": {},
   "outputs": [
    {
     "data": {
      "text/html": [
       "<div>\n",
       "<style scoped>\n",
       "    .dataframe tbody tr th:only-of-type {\n",
       "        vertical-align: middle;\n",
       "    }\n",
       "\n",
       "    .dataframe tbody tr th {\n",
       "        vertical-align: top;\n",
       "    }\n",
       "\n",
       "    .dataframe thead th {\n",
       "        text-align: right;\n",
       "    }\n",
       "</style>\n",
       "<table border=\"1\" class=\"dataframe\">\n",
       "  <thead>\n",
       "    <tr style=\"text-align: right;\">\n",
       "      <th></th>\n",
       "      <th>ke</th>\n",
       "      <th>be</th>\n",
       "      <th>cps</th>\n",
       "      <th>bg</th>\n",
       "      <th>cps_no_bg</th>\n",
       "      <th>p0</th>\n",
       "      <th>p1</th>\n",
       "    </tr>\n",
       "  </thead>\n",
       "  <tbody>\n",
       "    <tr>\n",
       "      <th>0</th>\n",
       "      <td>562.0</td>\n",
       "      <td>93.0</td>\n",
       "      <td>0.062374</td>\n",
       "      <td>0.065292</td>\n",
       "      <td>-0.002918</td>\n",
       "      <td>0.000534</td>\n",
       "      <td>0.001094</td>\n",
       "    </tr>\n",
       "    <tr>\n",
       "      <th>1</th>\n",
       "      <td>562.1</td>\n",
       "      <td>92.9</td>\n",
       "      <td>0.063712</td>\n",
       "      <td>0.065296</td>\n",
       "      <td>-0.001585</td>\n",
       "      <td>0.000545</td>\n",
       "      <td>0.001130</td>\n",
       "    </tr>\n",
       "    <tr>\n",
       "      <th>2</th>\n",
       "      <td>562.2</td>\n",
       "      <td>92.8</td>\n",
       "      <td>0.063853</td>\n",
       "      <td>0.065300</td>\n",
       "      <td>-0.001447</td>\n",
       "      <td>0.000556</td>\n",
       "      <td>0.001169</td>\n",
       "    </tr>\n",
       "    <tr>\n",
       "      <th>3</th>\n",
       "      <td>562.3</td>\n",
       "      <td>92.7</td>\n",
       "      <td>0.066095</td>\n",
       "      <td>0.065298</td>\n",
       "      <td>0.000796</td>\n",
       "      <td>0.000568</td>\n",
       "      <td>0.001209</td>\n",
       "    </tr>\n",
       "    <tr>\n",
       "      <th>4</th>\n",
       "      <td>562.4</td>\n",
       "      <td>92.6</td>\n",
       "      <td>0.070386</td>\n",
       "      <td>0.065284</td>\n",
       "      <td>0.005102</td>\n",
       "      <td>0.000580</td>\n",
       "      <td>0.001252</td>\n",
       "    </tr>\n",
       "    <tr>\n",
       "      <th>...</th>\n",
       "      <td>...</td>\n",
       "      <td>...</td>\n",
       "      <td>...</td>\n",
       "      <td>...</td>\n",
       "      <td>...</td>\n",
       "      <td>...</td>\n",
       "      <td>...</td>\n",
       "    </tr>\n",
       "    <tr>\n",
       "      <th>136</th>\n",
       "      <td>575.6</td>\n",
       "      <td>79.4</td>\n",
       "      <td>0.011300</td>\n",
       "      <td>0.011773</td>\n",
       "      <td>-0.000473</td>\n",
       "      <td>0.003741</td>\n",
       "      <td>0.000751</td>\n",
       "    </tr>\n",
       "    <tr>\n",
       "      <th>137</th>\n",
       "      <td>575.7</td>\n",
       "      <td>79.3</td>\n",
       "      <td>0.012030</td>\n",
       "      <td>0.011772</td>\n",
       "      <td>0.000257</td>\n",
       "      <td>0.003545</td>\n",
       "      <td>0.000731</td>\n",
       "    </tr>\n",
       "    <tr>\n",
       "      <th>138</th>\n",
       "      <td>575.8</td>\n",
       "      <td>79.2</td>\n",
       "      <td>0.011629</td>\n",
       "      <td>0.011773</td>\n",
       "      <td>-0.000143</td>\n",
       "      <td>0.003364</td>\n",
       "      <td>0.000712</td>\n",
       "    </tr>\n",
       "    <tr>\n",
       "      <th>139</th>\n",
       "      <td>575.9</td>\n",
       "      <td>79.1</td>\n",
       "      <td>0.011882</td>\n",
       "      <td>0.011773</td>\n",
       "      <td>0.000109</td>\n",
       "      <td>0.003197</td>\n",
       "      <td>0.000693</td>\n",
       "    </tr>\n",
       "    <tr>\n",
       "      <th>140</th>\n",
       "      <td>576.0</td>\n",
       "      <td>79.0</td>\n",
       "      <td>0.012018</td>\n",
       "      <td>0.011772</td>\n",
       "      <td>0.000246</td>\n",
       "      <td>0.003042</td>\n",
       "      <td>0.000676</td>\n",
       "    </tr>\n",
       "  </tbody>\n",
       "</table>\n",
       "<p>141 rows × 7 columns</p>\n",
       "</div>"
      ],
      "text/plain": [
       "        ke    be       cps        bg  cps_no_bg        p0        p1\n",
       "0    562.0  93.0  0.062374  0.065292  -0.002918  0.000534  0.001094\n",
       "1    562.1  92.9  0.063712  0.065296  -0.001585  0.000545  0.001130\n",
       "2    562.2  92.8  0.063853  0.065300  -0.001447  0.000556  0.001169\n",
       "3    562.3  92.7  0.066095  0.065298   0.000796  0.000568  0.001209\n",
       "4    562.4  92.6  0.070386  0.065284   0.005102  0.000580  0.001252\n",
       "..     ...   ...       ...       ...        ...       ...       ...\n",
       "136  575.6  79.4  0.011300  0.011773  -0.000473  0.003741  0.000751\n",
       "137  575.7  79.3  0.012030  0.011772   0.000257  0.003545  0.000731\n",
       "138  575.8  79.2  0.011629  0.011773  -0.000143  0.003364  0.000712\n",
       "139  575.9  79.1  0.011882  0.011773   0.000109  0.003197  0.000693\n",
       "140  576.0  79.0  0.012018  0.011772   0.000246  0.003042  0.000676\n",
       "\n",
       "[141 rows x 7 columns]"
      ]
     },
     "execution_count": 531,
     "metadata": {},
     "output_type": "execute_result"
    }
   ],
   "source": [
    "df"
   ]
  },
  {
   "cell_type": "code",
   "execution_count": 535,
   "metadata": {},
   "outputs": [
    {
     "data": {
      "image/png": "[encoded data removed]",
      "text/plain": [
       "<Figure size 640x480 with 1 Axes>"
      ]
     },
     "metadata": {},
     "output_type": "display_data"
    }
   ],
   "source": [
    "df = x.df_dict['Au']\n",
    "fig, ax = plt.subplots()\n",
    "sns.scatterplot(data=df, x='be', y='cps_no_bg', ax=ax)\n",
    "for p in ['p0', 'p1']:\n",
    "    sns.lineplot(data=df, x='be', y=p, ax=ax)"
   ]
  },
  {
   "cell_type": "code",
   "execution_count": 533,
   "metadata": {},
   "outputs": [
    {
     "data": {
      "text/plain": [
       "1.0113003859635215"
      ]
     },
     "execution_count": 533,
     "metadata": {},
     "output_type": "execute_result"
    }
   ],
   "source": [
    "max(df['cps'])"
   ]
  },
  {
   "cell_type": "code",
   "execution_count": null,
   "metadata": {},
   "outputs": [],
   "source": []
  }
 ],
 "metadata": {
  "kernelspec": {
   "display_name": "pes2",
   "language": "python",
   "name": "python3"
  },
  "language_info": {
   "codemirror_mode": {
    "name": "ipython",
    "version": 3
   },
   "file_extension": ".py",
   "mimetype": "text/x-python",
   "name": "python",
   "nbconvert_exporter": "python",
   "pygments_lexer": "ipython3",
   "version": "3.10.9"
  },
  "orig_nbformat": 4
 },
 "nbformat": 4,
 "nbformat_minor": 2
}

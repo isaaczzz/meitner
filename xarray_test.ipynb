{
 "cells": [
  {
   "cell_type": "code",
   "execution_count": 102,
   "metadata": {},
   "outputs": [],
   "source": [
    "import xarray as xr\n",
    "import pandas as pd\n",
    "import numpy as np\n",
    "import meitner\n",
    "import warnings\n",
    "\n",
    "from vamas import Vamas"
   ]
  },
  {
   "cell_type": "code",
   "execution_count": 103,
   "metadata": {},
   "outputs": [],
   "source": [
    "def check_vamas_input(path=None, vms=False):\n",
    "    '''\n",
    "    Check whether a path to VAMAS data is specified, a VAMAS object is passed, or an invalid input is given.\n",
    "    \n",
    "    Args:\n",
    "        path: Path to VAMAS data, including extension.\n",
    "        vms: Vamas object.\n",
    "        \n",
    "    Returns:\n",
    "        Vamas object.\n",
    "    '''\n",
    "    if isinstance(path,str) and (path[-4:] == \".vms\"):\n",
    "        vms = Vamas(path)\n",
    "    elif vms:\n",
    "        pass\n",
    "    else:\n",
    "        warnings.warn(\n",
    "            'Data format is not VAMAS.'\n",
    "        )\n",
    "        return\n",
    "    return vms\n",
    "\n",
    "\n",
    "def read_vamas_blocks(path=None, vms=False):\n",
    "    '''\n",
    "    Wrapper for Vamas() to read VAMAS block IDs.\n",
    "    If path is specified, VAMAS data are loaded.\n",
    "    Alternatively, a Vamas object (vms) can be passed directly.\n",
    "    \n",
    "    Args:\n",
    "        path: Path to VAMAS data, including extension.\n",
    "        vms: Vamas object.\n",
    "        \n",
    "    Returns:\n",
    "        List of VAMAS block IDs.\n",
    "    '''\n",
    "    vms = check_vamas_input(path=path, vms=vms)\n",
    "    return [vms.blocks[k].block_identifier for k in range(len(vms.blocks))]\n",
    "\n",
    "\n",
    "def import_single_vamas(path=None,\n",
    "                        vms=False,\n",
    "                        region_id=None,\n",
    "                        read_phi=False):\n",
    "        '''\n",
    "        Wrapper for Vamas() to import XPS data into an Xarray Dataset.\n",
    "        If path is specified, VAMAS data are loaded.\n",
    "        Alternatively, a Vamas object (vms) can be passed directly.\n",
    "        \n",
    "        Args:\n",
    "            path: Path to VAMAS data, including extension.\n",
    "            region_id: Identifier for VAMAS block. Can be string (e.g., 'Au 4f 690') or integer index of block (more robust).\n",
    "                # TODO Identify when multiple VAMAS blocks share the same name and prompt user to select.\n",
    "            read_phi: If True, reads the analyzer work function from VAMAS data and factors it into the binding energy calculation.\n",
    "            \n",
    "        Returns:\n",
    "            Xarray dataset with variables ke (kinetic energy) and cps (raw counts) and coordinate be (binding energy).\n",
    "        \n",
    "        # ! Data processing options (normalize, shift) have been moved downstream.\n",
    "        '''\n",
    "\n",
    "        vms = check_vamas_input(path=path, vms=vms)\n",
    "\n",
    "        # check spectra contained in VAMAS by pulling block_identifier for each block\n",
    "        ids = read_vamas_blocks(vms=vms)\n",
    "        n = len(ids)\n",
    "        \n",
    "        print('Found ' + str(len(ids)) + ' blocks.')\n",
    "        print()\n",
    "        \n",
    "        # check for and log duplicate block IDs\n",
    "        duplicate_flag = n != len(set(ids))\n",
    "        if duplicate_flag:\n",
    "            print('Detected multiple VAMAS blocks with the same name.')\n",
    "            print()\n",
    "            duplicate_ids = [id for id in ids if ids.count(id) > 1]\n",
    "        \n",
    "        # if region_id not specified, get user input\n",
    "        if (region_id == None) or (not region_id):\n",
    "            print(pd.DataFrame(ids, columns=['id']))\n",
    "            region_id = input('Specify block ID or index to access...')\n",
    "            try:\n",
    "                region_id = int(region_id)\n",
    "            except ValueError:\n",
    "                pass\n",
    "        \n",
    "        # block index specified directly\n",
    "        if isinstance(region_id, int):\n",
    "            idx = region_id\n",
    "        # get block index from block ID\n",
    "        elif isinstance(region_id, str):\n",
    "            if region_id in duplicate_ids:\n",
    "                print('String specification is ambiguous.')\n",
    "                print('Defaulting to first instance.')\n",
    "            idx = ids.index(region_id)\n",
    "            \n",
    "        # access spectrum, pull counts (c), generate KE range, and calculate BE from KE\n",
    "        dataBlock = vms.blocks[idx]\n",
    "        cps = dataBlock.corresponding_variables[0].y_values # ! assumes counts are always the first corresponding variable...\n",
    "        n = len(cps)\n",
    "        ke = np.linspace(dataBlock.x_start, dataBlock.x_start + dataBlock.x_step*(n-1), n)\n",
    "        \n",
    "        # analyzer work function\n",
    "        if read_phi:\n",
    "            phi = dataBlock.analyzer_work_function_or_acceptance_energy\n",
    "        else:\n",
    "            phi = 0\n",
    "        # excitation energy\n",
    "        hv = dataBlock.analysis_source_characteristic_energy\n",
    "        print(\"Excitation energy:\")\n",
    "        print(str(hv) + \" eV\")\n",
    "\n",
    "        \n",
    "        # compute binding energy\n",
    "        be = hv - ke - phi\n",
    "        \n",
    "        return xr.Dataset(\n",
    "            data_vars=dict(\n",
    "                cps=('be', cps),\n",
    "                ke=('be', ke)\n",
    "            ),\n",
    "            coords=dict(\n",
    "                be=('be', be)\n",
    "            )\n",
    "        )"
   ]
  },
  {
   "cell_type": "code",
   "execution_count": 104,
   "metadata": {},
   "outputs": [],
   "source": [
    "file = 'sh_all.vms'"
   ]
  },
  {
   "cell_type": "code",
   "execution_count": 105,
   "metadata": {},
   "outputs": [],
   "source": [
    "ids = read_vamas_blocks(path=file)"
   ]
  },
  {
   "cell_type": "code",
   "execution_count": 113,
   "metadata": {},
   "outputs": [
    {
     "name": "stdout",
     "output_type": "stream",
     "text": [
      "Found 43 blocks.\n",
      "\n",
      "Detected multiple VAMAS blocks with the same name.\n",
      "\n",
      "Excitation energy:\n",
      "1486.69 eV\n"
     ]
    }
   ],
   "source": [
    "ds = import_single_vamas(file, region_id=6)"
   ]
  },
  {
   "cell_type": "code",
   "execution_count": 114,
   "metadata": {},
   "outputs": [
    {
     "name": "stdout",
     "output_type": "stream",
     "text": [
      "Found 43 blocks.\n",
      "\n",
      "Detected multiple VAMAS blocks with the same name.\n",
      "\n",
      "Excitation energy:\n",
      "1486.69 eV\n"
     ]
    }
   ],
   "source": [
    "data = meitner.Xps.from_vamas(path=file, region_id=6)"
   ]
  }
 ],
 "metadata": {
  "kernelspec": {
   "display_name": "pes2",
   "language": "python",
   "name": "python3"
  },
  "language_info": {
   "codemirror_mode": {
    "name": "ipython",
    "version": 3
   },
   "file_extension": ".py",
   "mimetype": "text/x-python",
   "name": "python",
   "nbconvert_exporter": "python",
   "pygments_lexer": "ipython3",
   "version": "3.10.11"
  },
  "orig_nbformat": 4
 },
 "nbformat": 4,
 "nbformat_minor": 2
}
